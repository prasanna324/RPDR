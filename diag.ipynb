{
 "cells": [
  {
   "cell_type": "code",
   "execution_count": 3,
   "metadata": {},
   "outputs": [
    {
     "name": "stdout",
     "output_type": "stream",
     "text": [
      "Overwriting diag.py\n"
     ]
    }
   ],
   "source": [
    "%%writefile diag.py\n",
    "\n",
    "def load_diag(path, delimiter='|', datetime_col='Date', prune=True):\n",
    "    import pandas as pd\n",
    "    \n",
    "    diag = pd.read_csv(path, delimiter=delimiter, dtype=str)\n",
    "    \n",
    "    diag['Diagnosis_Name'] = diag['Diagnosis_Name'].str.lower()\n",
    "    \n",
    "    diag['datetime'] = pd.to_datetime(diag.loc[:,datetime_col])\n",
    "    \n",
    "    return diag\n",
    "\n",
    "def tag_transplant(df, diag, remove=False):\n",
    "    '''\n",
    "    Accepts a dataframe with patient ID col name patient_ID, cross references the diagnosis database for that\n",
    "    patient identifier for signature of transplant, and approximate date, adds two columns txplanted and txplanted_date\n",
    "    \n",
    "    WARNINGS:\n",
    "    - assumes MRN, datetime are names of columns in both dataframes\n",
    "    '''\n",
    "    \n",
    "    import pandas as pd\n",
    "        \n",
    "    # first identify transplant entries from diag\n",
    "    \n",
    "    fil1 = (diag.Diagnosis_Name.str.contains('transplant')) & (diag.Diagnosis_Name.str.contains('liver'))\n",
    "    liver_dx1 = diag[fil1].copy()\n",
    "    \n",
    "    liver_dx2 = liver_dx1.sort_values(by='datetime', ascending=True).groupby('MRN').first()\n",
    "    \n",
    "    # reset index moves MRN to a column again, renumbers index\n",
    "    liver_dx2 = liver_dx2.reset_index()\n",
    "    \n",
    "    # remove all columns except MRN and datetime\n",
    "    liver_dx2 = liver_dx2[['MRN', 'datetime']]\n",
    "    \n",
    "    # rename datetime to txplant_earliest\n",
    "    liver_dx2.rename(columns={'datetime': 'txplant_earliest'}, inplace=True)\n",
    "    # make these all transplants\n",
    "    liver_dx2['is_transplant'] = True\n",
    "    \n",
    "    # left merge the transplant database onto the passed dataframe\n",
    "    out_df = df.merge(liver_dx2, how='left', on='MRN')\n",
    "    \n",
    "    # fill out NaN's in the is_transplant column with False if nan\n",
    "    out_df['is_transplant'] = out_df.is_transplant.apply(lambda x: False if pd.isna(x) else x)\n",
    "    \n",
    "    return out_df, liver_dx2"
   ]
  },
  {
   "cell_type": "code",
   "execution_count": null,
   "metadata": {},
   "outputs": [],
   "source": []
  }
 ],
 "metadata": {
  "kernelspec": {
   "display_name": "Python 3",
   "language": "python",
   "name": "python3"
  },
  "language_info": {
   "codemirror_mode": {
    "name": "ipython",
    "version": 3
   },
   "file_extension": ".py",
   "mimetype": "text/x-python",
   "name": "python",
   "nbconvert_exporter": "python",
   "pygments_lexer": "ipython3",
   "version": "3.8.3"
  }
 },
 "nbformat": 4,
 "nbformat_minor": 4
}
