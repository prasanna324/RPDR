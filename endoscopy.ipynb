{
 "cells": [
  {
   "cell_type": "code",
   "execution_count": 3,
   "metadata": {},
   "outputs": [
    {
     "name": "stdout",
     "output_type": "stream",
     "text": [
      "Overwriting endoscopy.py\n"
     ]
    }
   ],
   "source": [
    "%%writefile endoscopy.py\n",
    "\n",
    "def load_RPDR_endo(path,delimiter='|', datetime_col='Report_Date_Time'):\n",
    "    ''' load_RPDR_endo(path, delimiter='|', datetime_col='Report_Date_Time'):\n",
    "        Loads RPDR endoscopy notes file as pandas dataframe\n",
    "        \n",
    "        PARAMETERS:\n",
    "        path: path to csv file or other text delimited file\n",
    "        delimiter: delimiter for path file\n",
    "        datetime_col: column name containing date/time information for each path report\n",
    "\n",
    "        returns: pandas dataframe containing path information\n",
    "        \n",
    "        WARNINGS:\n",
    "        1. Current function automatically searches for path + 'multiline_corrected', *if present* it assumes that is the correct \n",
    "            file. E.g., path='/data/path.txt', it searches for '/data/path_multiline_corrected.txt'.\n",
    "        2. It will not overwrite this file if present\n",
    "    \n",
    "        '''\n",
    "    import pandas as pd\n",
    "    import os.path\n",
    "    from os import path as os_path\n",
    "    \n",
    "    write_path = path.replace('.','_multiline_corrected.')\n",
    "    if os_path.exists(write_path)==False:\n",
    "        print('Reformatting path file to allow multi-line report text to be readable, saving as : {}'.format(write_path))\n",
    "        \n",
    "        with open(write_path,'w') as file_w:\n",
    "            with open(path) as file_r:\n",
    "                for i in range(1):\n",
    "                    first_line = next(file_r)\n",
    "                    file_w.write(first_line)\n",
    "                for i,line in enumerate(file_r):\n",
    "                    # Replace single quote with double quotes in all the lines\n",
    "                    line = line.replace('\"', '\"\"')\n",
    "                    # Find the right-most occurence of the character \"|\" in a line\n",
    "                    index = line.rfind(\"|\")\n",
    "                    # Number of times \"|\" is present in a line\n",
    "                    count = line.count(\"|\")\n",
    "                    \n",
    "                    if index!=-1 and count==9:\n",
    "                        # Replace the last occurence of '|' with '|\"'\n",
    "                        line = line[:index+1] + '\"' + line[index+1:]\n",
    "                    line = line.replace('[report_end]', '[report_end]\"')\n",
    "                    file_w.write(line)\n",
    "        file_r.close()\n",
    "        file_w.close()\n",
    "        \n",
    "    path = write_path\n",
    "    \n",
    "    # Read the processed .csv file from path location\n",
    "    print('Reading from : ' + path)\n",
    "    path_df = pd.read_csv(path, sep=delimiter, dtype=str)\n",
    "    \n",
    "    # Create unique_report_id by joining EMPI and Report_Number\n",
    "    path_df['unique_report_id'] = path_df.apply(lambda x: str(x.EMPI) + '_' + str(x.Report_Number),axis=1)\n",
    "    \n",
    "    # Drop duplicates for 'unique_report_id' cases based on length of Result_Text instead of dropping the first observed case\n",
    "    path_df['report_len'] = path_df['Report_Text'].str.len()\n",
    "    \n",
    "    path_df = (path_df\n",
    "      .sort_values(['unique_report_id', 'report_len'])\n",
    "      .drop_duplicates(subset=['unique_report_id'], keep='last', inplace=False, ignore_index=False)\n",
    "      .drop(columns=['report_len'])\n",
    "      .sort_index()\n",
    "     )\n",
    "    \n",
    "    # now set index to unique_report_id\n",
    "    path_df.set_index(keys='unique_report_id', inplace=True, verify_integrity=True)\n",
    "    \n",
    "    # Convert datetime column to pandas date time format\n",
    "    path_df['datetime'] = pd.to_datetime(path_df.loc[:,datetime_col])\n",
    "    \n",
    "    return path_df"
   ]
  }
 ],
 "metadata": {
  "kernelspec": {
   "display_name": "Python 3",
   "language": "python",
   "name": "python3"
  },
  "language_info": {
   "codemirror_mode": {
    "name": "ipython",
    "version": 3
   },
   "file_extension": ".py",
   "mimetype": "text/x-python",
   "name": "python",
   "nbconvert_exporter": "python",
   "pygments_lexer": "ipython3",
   "version": "3.8.5"
  },
  "toc": {
   "base_numbering": 1,
   "nav_menu": {},
   "number_sections": true,
   "sideBar": true,
   "skip_h1_title": false,
   "title_cell": "Table of Contents",
   "title_sidebar": "Contents",
   "toc_cell": false,
   "toc_position": {},
   "toc_section_display": true,
   "toc_window_display": false
  }
 },
 "nbformat": 4,
 "nbformat_minor": 4
}
