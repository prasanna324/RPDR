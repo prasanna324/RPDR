{
 "cells": [
  {
   "cell_type": "code",
   "execution_count": 1,
   "metadata": {},
   "outputs": [],
   "source": [
    "import endoscopy\n",
    "import importlib"
   ]
  },
  {
   "cell_type": "code",
   "execution_count": 2,
   "metadata": {},
   "outputs": [
    {
     "data": {
      "text/plain": [
       "<module 'endoscopy' from '/Users/pkc17/MGH/RPDR/endoscopy.py'>"
      ]
     },
     "execution_count": 2,
     "metadata": {},
     "output_type": "execute_result"
    }
   ],
   "source": [
    "importlib.reload(endoscopy)"
   ]
  },
  {
   "cell_type": "code",
   "execution_count": 24,
   "metadata": {},
   "outputs": [
    {
     "name": "stdout",
     "output_type": "stream",
     "text": [
      "Reading from : /Users/pkc17/Downloads/Decrypted/HK961_20210611_114201_End_multiline_corrected.txt\n"
     ]
    }
   ],
   "source": [
    "endo_df_col = endoscopy.load_RPDR_endo('/Users/pkc17/Downloads/Decrypted/HK961_20210611_114201_End.txt', delimiter='|', datetime_col='Report_Date_Time')\n",
    "endo_df_col = endo_df_col.sort_values(['EMPI', 'datetime'])"
   ]
  },
  {
   "cell_type": "code",
   "execution_count": 25,
   "metadata": {},
   "outputs": [
    {
     "name": "stdout",
     "output_type": "stream",
     "text": [
      "Truncating to only final diagnosis...\n"
     ]
    }
   ],
   "source": [
    "endo_df_col_2 = endoscopy.truncate_dx_start(endo_df_col.copy(), update=True)"
   ]
  },
  {
   "cell_type": "code",
   "execution_count": 26,
   "metadata": {},
   "outputs": [
    {
     "name": "stdout",
     "output_type": "stream",
     "text": [
      "Updating input path dataframe with truncated MGH, BWH path reports\n"
     ]
    }
   ],
   "source": [
    "endo_df_col_3 = endoscopy.truncate_dx_end(endo_df_col_2.copy(), update=True)"
   ]
  },
  {
   "cell_type": "code",
   "execution_count": 27,
   "metadata": {},
   "outputs": [],
   "source": [
    "endo_df_col_3 = endo_df_col_3.reset_index(drop=True).drop(columns = ['dx_end_line_LAFD'])"
   ]
  },
  {
   "cell_type": "code",
   "execution_count": 29,
   "metadata": {},
   "outputs": [],
   "source": [
    "endo_df_col_3.to_csv('/Users/pkc17/Downloads/Decrypted/endoscopy_truncated.csv')"
   ]
  },
  {
   "cell_type": "code",
   "execution_count": 4,
   "metadata": {},
   "outputs": [
    {
     "name": "stdout",
     "output_type": "stream",
     "text": [
      "Reading from : /Users/pkc17/Downloads/Decrypted/HK961_20210611_114201_Rad_multiline_corrected.txt\n"
     ]
    }
   ],
   "source": [
    "rad_df_col = endoscopy.load_RPDR_endo('/Users/pkc17/Downloads/Decrypted/HK961_20210611_114201_Rad.txt', delimiter='|', datetime_col='Report_Date_Time')\n",
    "rad_df_col = rad_df_col.sort_values(['EMPI', 'datetime'])"
   ]
  },
  {
   "cell_type": "code",
   "execution_count": 7,
   "metadata": {},
   "outputs": [
    {
     "name": "stdout",
     "output_type": "stream",
     "text": [
      "Truncating to only final diagnosis...\n"
     ]
    }
   ],
   "source": [
    "rad_df_col_2 = endoscopy.truncate_dx_start(rad_df_col.copy(), update=True)"
   ]
  },
  {
   "cell_type": "code",
   "execution_count": 8,
   "metadata": {},
   "outputs": [
    {
     "name": "stdout",
     "output_type": "stream",
     "text": [
      "Updating input path dataframe with truncated MGH, BWH path reports\n"
     ]
    }
   ],
   "source": [
    "rad_df_col_3 = endoscopy.truncate_dx_end(rad_df_col_2.copy(), update=True)"
   ]
  },
  {
   "cell_type": "code",
   "execution_count": null,
   "metadata": {},
   "outputs": [],
   "source": [
    "rad_df_col_3 = rad_df_col_3.reset_index(drop=True).drop(columns = ['dx_end_line_LAFD'])"
   ]
  },
  {
   "cell_type": "code",
   "execution_count": 23,
   "metadata": {},
   "outputs": [],
   "source": [
    "rad_df_col_3.to_csv('/Users/pkc17/Downloads/Decrypted/radiology_truncated.csv')"
   ]
  },
  {
   "cell_type": "code",
   "execution_count": null,
   "metadata": {},
   "outputs": [],
   "source": []
  }
 ],
 "metadata": {
  "kernelspec": {
   "display_name": "Python 3",
   "language": "python",
   "name": "python3"
  },
  "language_info": {
   "codemirror_mode": {
    "name": "ipython",
    "version": 3
   },
   "file_extension": ".py",
   "mimetype": "text/x-python",
   "name": "python",
   "nbconvert_exporter": "python",
   "pygments_lexer": "ipython3",
   "version": "3.8.5"
  },
  "toc": {
   "base_numbering": 1,
   "nav_menu": {},
   "number_sections": true,
   "sideBar": true,
   "skip_h1_title": false,
   "title_cell": "Table of Contents",
   "title_sidebar": "Contents",
   "toc_cell": false,
   "toc_position": {},
   "toc_section_display": true,
   "toc_window_display": false
  }
 },
 "nbformat": 4,
 "nbformat_minor": 4
}
