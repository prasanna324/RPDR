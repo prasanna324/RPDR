{
 "cells": [
  {
   "cell_type": "code",
   "execution_count": 2,
   "metadata": {},
   "outputs": [
    {
     "name": "stdout",
     "output_type": "stream",
     "text": [
      "Overwriting meds.py\n"
     ]
    }
   ],
   "source": [
    "%%writefile meds.py\n",
    "\n",
    "def load_RPDR_meds_multiple(dir_data, filename_meds, delimiter='|', make_lower=True):\n",
    "    ''' load_RPDR_meds_multiple(dir_data, filename_meds, delimiter='|', make_lower=True):\n",
    "        Sequentially loads all files from RPDR data dump when multiple files have the same name. \n",
    "        \n",
    "        1. Starts in dir_data (should have trailing slash), grabs all sub-folders' names automatically, then sequentially loads: dir_data/[sub-folders]/path_labs (where path_labs is the name of the file)\n",
    "        * Note for whatever reason, on a multiple-split file dump from RPDR the labs, demographics, etc files are all named the exact same, just in different zips\n",
    "        2. Calls the traditional load meds function on each file\n",
    "        3. Concatenates all results and returns 1 DF\n",
    "        4. If make_lower==True, converts all medication names to lower case\n",
    "        \n",
    "        Warnings:\n",
    "        1. Do not have any other subfolders besides the ones containing data in dir_data\n",
    "        \n",
    "        '''\n",
    "    import os\n",
    "    import pandas as pd\n",
    "    \n",
    "    # get list of subdirectories\n",
    "    subdirectories = [x[0] for x in os.walk(dir_data)][1:]\n",
    "    \n",
    "    first=True\n",
    "    # for each subdir, use the traditional load function to load data and concat\n",
    "    for subdir in subdirectories:\n",
    "        path_to_labs_full=subdir+'/'+filename_meds\n",
    "        meds = load_RPDR_meds(path=path_to_labs_full, delimiter=delimiter)\n",
    "        \n",
    "        if first==True:\n",
    "            concat_pd = meds\n",
    "            first=False\n",
    "        else:\n",
    "            concat_pd=pd.concat([concat_pd, meds],ignore_index=True)\n",
    "        \n",
    "    if make_lower:\n",
    "        concat_pd['Medication'] = concat_pd.Medication.apply(lambda x: x.lower())\n",
    "        \n",
    "    return concat_pd\n",
    "\n",
    "def load_RPDR_meds(path, delimiter='|', datetime_col='Medication_Date', prune=True):\n",
    "    import pandas as pd\n",
    "    \n",
    "    # load a medications record\n",
    "    \n",
    "    meds = pd.read_csv(path, delimiter=delimiter, dtype=str)\n",
    "    # enforce the EMPI column is strings for later\n",
    "    \n",
    "    meds['datetime'] = pd.to_datetime(meds.loc[:,datetime_col])\n",
    "    \n",
    "    return meds[['EMPI', 'EPIC_PMRN', 'MRN_Type', 'MRN', 'datetime', 'Medication', 'Code_Type', 'Code', 'Quantity', 'Inpatient_Outpatient']]"
   ]
  },
  {
   "cell_type": "code",
   "execution_count": null,
   "metadata": {},
   "outputs": [],
   "source": []
  }
 ],
 "metadata": {
  "kernelspec": {
   "display_name": "Python 3",
   "language": "python",
   "name": "python3"
  },
  "language_info": {
   "codemirror_mode": {
    "name": "ipython",
    "version": 3
   },
   "file_extension": ".py",
   "mimetype": "text/x-python",
   "name": "python",
   "nbconvert_exporter": "python",
   "pygments_lexer": "ipython3",
   "version": "3.8.5"
  },
  "toc": {
   "base_numbering": 1,
   "nav_menu": {},
   "number_sections": true,
   "sideBar": true,
   "skip_h1_title": false,
   "title_cell": "Table of Contents",
   "title_sidebar": "Contents",
   "toc_cell": false,
   "toc_position": {},
   "toc_section_display": true,
   "toc_window_display": false
  }
 },
 "nbformat": 4,
 "nbformat_minor": 4
}
