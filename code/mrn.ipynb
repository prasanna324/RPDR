{
 "cells": [
  {
   "cell_type": "code",
   "execution_count": 6,
   "metadata": {},
   "outputs": [
    {
     "name": "stdout",
     "output_type": "stream",
     "text": [
      "Overwriting mrn.py\n"
     ]
    }
   ],
   "source": [
    "%%writefile mrn.py\n",
    "\n",
    "def load_RPDR_mrn_multiple(dir_data, path_labs, delimiter='|'):\n",
    "    ''' load_RPDR_mrn_multiple(dir_data, path_labs, delimiter='|'):\n",
    "        Sequentially loads all files from RPDR data dump when multiple files have the same name. \n",
    "        \n",
    "        1. Starts in dir_data (should have trailing slash), grabs all sub-folders' names automatically, then sequentially loads: dir_data/[sub-folders]/path_labs (where path_labs is the name of the file)\n",
    "        * Note for whatever reason, on a multiple-split file dump from RPDR the labs, demographics, etc files are all named the exact same, just in different zips\n",
    "        2. Calls the traditional load MRN function on each file\n",
    "        3. Concatenates all results and returns 1 DF\n",
    "        \n",
    "        '''\n",
    "    import os\n",
    "    import pandas as pd\n",
    "    \n",
    "    # get list of subdirectories\n",
    "    subdirectories = [x[0] for x in os.walk(dir_data)][1:]\n",
    "    \n",
    "    first=True\n",
    "    # for each subdir, use the traditional load function to load data and concat\n",
    "    for subdir in subdirectories:\n",
    "        path_to_labs=subdir+'/'+path_labs\n",
    "        mrn = load_RPDR_mrn(path=path_to_labs, delimiter=delimiter)\n",
    "        \n",
    "        if first==True:\n",
    "            concat_pd = mrn\n",
    "            first=False\n",
    "        else:\n",
    "            concat_pd=pd.concat([concat_pd, mrn],ignore_index=True)\n",
    "    \n",
    "    return concat_pd\n",
    "\n",
    "def load_RPDR_mrn(path, delimiter='|'):\n",
    "    import pandas as pd\n",
    "    \n",
    "    mrn = pd.read_csv(path, delimiter=delimiter, dtype=str)\n",
    "        \n",
    "    return mrn\n"
   ]
  },
  {
   "cell_type": "code",
   "execution_count": null,
   "metadata": {},
   "outputs": [],
   "source": []
  }
 ],
 "metadata": {
  "kernelspec": {
   "display_name": "Python 3",
   "language": "python",
   "name": "python3"
  },
  "language_info": {
   "codemirror_mode": {
    "name": "ipython",
    "version": 3
   },
   "file_extension": ".py",
   "mimetype": "text/x-python",
   "name": "python",
   "nbconvert_exporter": "python",
   "pygments_lexer": "ipython3",
   "version": "3.8.3"
  }
 },
 "nbformat": 4,
 "nbformat_minor": 4
}
